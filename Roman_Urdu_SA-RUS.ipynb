{
 "cells": [
  {
   "cell_type": "markdown",
   "metadata": {},
   "source": [
    "# Roman Urdu Sentiment Analysis \n",
    "\n",
    "### Background\n",
    "A large multinational corporation is seeking to automatically identify the sentiment that their customer base talks\n",
    "about on social media. They would like to expand this capability into multiple languages. Many 3rd party tools exist\n",
    "for sentiment analysis, however, they need help with under-resourced languages.\n",
    "\n",
    "### Summary\n",
    "The dataset used for sentiment classification contains text messages which are a combination of Urdu and English. For example, \"Je Thik Kaha Right\" meaning \"You said it right\". This dataset comes with many challenges like spelling errors, unclear grammatical structure and out of vocabulary words. Also words in Urdu have multiple variations when written in English which leads to large amount of sparse tokens. For instance, \"pyaar\" meaning love can be written as \"piyar\", \"peyar\",\"pyar\" etc. All of these issues can impact the accuracy of the model.\n",
    "\n",
    "To address some of the above problems we create our own list of stopwords in addition to English stopwords provided by NLTK library. We also use character n-grams to create TF-IDF vectors, character n-grams are especially powerful at detecting patterns in such misspellings, and are substantially less sparse than word n-grams.We will discuss how these challenges can be further addressed later in **'Next Steps'**.\n",
    "\n",
    "**Approach :**\n",
    "We first preprocess the text messages by lower-casing the text and removing punctuations and stopwords from the messages. We then generate char 3-grams, 4-grams and 5-grams vectors from the sentences and feed them to different classifiers (Multinomial Naive Bayes, Support Vector Machines, Random Forests) to classify the sentiment of the sentence. Since for this particular problem predicting Negative classes accurately is of importance, the model which gives highest F1-Score (0.63) and Recall Rate (0.59) for Negative class as well as good overall accuracy (65.8%) and F1 score (0.65) is selected. We thus use Support Vector Machines to identify the sentiment (Positive,Negative,Neutral) of Roman Urdu text messages for this dataset. Also, this dataset has imbalanced classes so Random Undersampling of majority classes is performed to balance the class distribution of the dataset.\n",
    "\n"
   ]
  },
  {
   "cell_type": "code",
   "execution_count": 39,
   "metadata": {},
   "outputs": [
    {
     "name": "stderr",
     "output_type": "stream",
     "text": [
      "[nltk_data] Downloading package stopwords to /root/nltk_data...\n",
      "[nltk_data]   Package stopwords is already up-to-date!\n"
     ]
    }
   ],
   "source": [
    "import pandas as pd\n",
    "import numpy as np\n",
    "import emoji\n",
    "from emoji import UNICODE_EMOJI\n",
    "import matplotlib.pyplot as plt\n",
    "%matplotlib inline\n",
    "import string\n",
    "import nltk\n",
    "from nltk import FreqDist\n",
    "nltk.download('stopwords')\n",
    "from nltk.corpus import stopwords\n",
    "from sklearn.feature_extraction.text import TfidfVectorizer,CountVectorizer,TfidfTransformer\n",
    "from sklearn.model_selection import train_test_split\n",
    "import xgboost as xgb\n",
    "from sklearn.metrics import accuracy_score\n",
    "import spacy\n",
    "from sklearn.linear_model import LogisticRegression\n",
    "from sklearn.svm import LinearSVC,SVC\n",
    "from sklearn.calibration import CalibratedClassifierCV\n",
    "from sklearn.naive_bayes import MultinomialNB\n",
    "from sklearn.ensemble import RandomForestClassifier\n",
    "from sklearn.metrics import classification_report\n",
    "from sklearn import metrics\n",
    "import imblearn\n",
    "from imblearn.under_sampling import RandomUnderSampler\n",
    "from imblearn.over_sampling import SMOTE\n",
    "from sklearn.model_selection import cross_val_score\n",
    "from sklearn.model_selection import  StratifiedKFold \n",
    "pd.set_option('display.max_columns', None)  \n",
    "pd.set_option('display.expand_frame_repr', False)\n",
    "pd.set_option('max_colwidth', None)"
   ]
  },
  {
   "cell_type": "markdown",
   "metadata": {},
   "source": [
    "# Data Preprocessing and Cleaning"
   ]
  },
  {
   "cell_type": "code",
   "execution_count": 2,
   "metadata": {},
   "outputs": [],
   "source": [
    "data = pd.read_csv('/storage/data/Roman Urdu DataSet.csv',header=None)\n",
    "data.columns = ['text','sentiment','extra']\n",
    "data['text'] = data['text'].astype(str)\n",
    "data['sentiment'] = data['sentiment'].astype(str)\n"
   ]
  },
  {
   "cell_type": "code",
   "execution_count": 3,
   "metadata": {},
   "outputs": [
    {
     "data": {
      "text/html": [
       "<div>\n",
       "<style scoped>\n",
       "    .dataframe tbody tr th:only-of-type {\n",
       "        vertical-align: middle;\n",
       "    }\n",
       "\n",
       "    .dataframe tbody tr th {\n",
       "        vertical-align: top;\n",
       "    }\n",
       "\n",
       "    .dataframe thead th {\n",
       "        text-align: right;\n",
       "    }\n",
       "</style>\n",
       "<table border=\"1\" class=\"dataframe\">\n",
       "  <thead>\n",
       "    <tr style=\"text-align: right;\">\n",
       "      <th></th>\n",
       "      <th>text</th>\n",
       "      <th>sentiment</th>\n",
       "      <th>extra</th>\n",
       "    </tr>\n",
       "  </thead>\n",
       "  <tbody>\n",
       "    <tr>\n",
       "      <th>0</th>\n",
       "      <td>Sai kha ya her kisi kay bus ki bat nhi hai lakin main ki hal kal bi Aj aur aj bi sirf Aus say bus</td>\n",
       "      <td>Positive</td>\n",
       "      <td>NaN</td>\n",
       "    </tr>\n",
       "    <tr>\n",
       "      <th>1</th>\n",
       "      <td>sahi bt h</td>\n",
       "      <td>Positive</td>\n",
       "      <td>NaN</td>\n",
       "    </tr>\n",
       "    <tr>\n",
       "      <th>2</th>\n",
       "      <td>Kya bt hai,</td>\n",
       "      <td>Positive</td>\n",
       "      <td>NaN</td>\n",
       "    </tr>\n",
       "    <tr>\n",
       "      <th>3</th>\n",
       "      <td>Wah je wah</td>\n",
       "      <td>Positive</td>\n",
       "      <td>NaN</td>\n",
       "    </tr>\n",
       "    <tr>\n",
       "      <th>4</th>\n",
       "      <td>Are wha kaya bat hai</td>\n",
       "      <td>Positive</td>\n",
       "      <td>NaN</td>\n",
       "    </tr>\n",
       "  </tbody>\n",
       "</table>\n",
       "</div>"
      ],
      "text/plain": [
       "                                                                                                text sentiment extra\n",
       "0  Sai kha ya her kisi kay bus ki bat nhi hai lakin main ki hal kal bi Aj aur aj bi sirf Aus say bus  Positive   NaN\n",
       "1                                                                                          sahi bt h  Positive   NaN\n",
       "2                                                                                        Kya bt hai,  Positive   NaN\n",
       "3                                                                                         Wah je wah  Positive   NaN\n",
       "4                                                                               Are wha kaya bat hai  Positive   NaN"
      ]
     },
     "execution_count": 3,
     "metadata": {},
     "output_type": "execute_result"
    }
   ],
   "source": [
    "data.head()"
   ]
  },
  {
   "cell_type": "code",
   "execution_count": 4,
   "metadata": {},
   "outputs": [
    {
     "data": {
      "text/html": [
       "<div>\n",
       "<style scoped>\n",
       "    .dataframe tbody tr th:only-of-type {\n",
       "        vertical-align: middle;\n",
       "    }\n",
       "\n",
       "    .dataframe tbody tr th {\n",
       "        vertical-align: top;\n",
       "    }\n",
       "\n",
       "    .dataframe thead th {\n",
       "        text-align: right;\n",
       "    }\n",
       "</style>\n",
       "<table border=\"1\" class=\"dataframe\">\n",
       "  <thead>\n",
       "    <tr style=\"text-align: right;\">\n",
       "      <th></th>\n",
       "      <th>text</th>\n",
       "      <th>sentiment</th>\n",
       "      <th>extra</th>\n",
       "    </tr>\n",
       "  </thead>\n",
       "  <tbody>\n",
       "    <tr>\n",
       "      <th>count</th>\n",
       "      <td>20229</td>\n",
       "      <td>20229</td>\n",
       "      <td>7</td>\n",
       "    </tr>\n",
       "    <tr>\n",
       "      <th>unique</th>\n",
       "      <td>19665</td>\n",
       "      <td>4</td>\n",
       "      <td>6</td>\n",
       "    </tr>\n",
       "    <tr>\n",
       "      <th>top</th>\n",
       "      <td>Good</td>\n",
       "      <td>Neutral</td>\n",
       "      <td>till here</td>\n",
       "    </tr>\n",
       "    <tr>\n",
       "      <th>freq</th>\n",
       "      <td>23</td>\n",
       "      <td>8929</td>\n",
       "      <td>2</td>\n",
       "    </tr>\n",
       "  </tbody>\n",
       "</table>\n",
       "</div>"
      ],
      "text/plain": [
       "         text sentiment      extra\n",
       "count   20229     20229          7\n",
       "unique  19665         4          6\n",
       "top      Good   Neutral  till here\n",
       "freq       23      8929          2"
      ]
     },
     "execution_count": 4,
     "metadata": {},
     "output_type": "execute_result"
    }
   ],
   "source": [
    "data.describe()"
   ]
  },
  {
   "cell_type": "code",
   "execution_count": 5,
   "metadata": {},
   "outputs": [
    {
     "name": "stdout",
     "output_type": "stream",
     "text": [
      "(20229, 3)\n",
      "(19615, 3)\n"
     ]
    }
   ],
   "source": [
    "#drop identical rows from the dataset\n",
    "print(data.shape)\n",
    "data['text'] = data['text'].str.strip()\n",
    "data['sentiment'] = data['sentiment'].str.strip()\n",
    "data = data.drop_duplicates()\n",
    "print(data.shape)"
   ]
  },
  {
   "cell_type": "code",
   "execution_count": 6,
   "metadata": {},
   "outputs": [
    {
     "data": {
      "text/html": [
       "<div>\n",
       "<style scoped>\n",
       "    .dataframe tbody tr th:only-of-type {\n",
       "        vertical-align: middle;\n",
       "    }\n",
       "\n",
       "    .dataframe tbody tr th {\n",
       "        vertical-align: top;\n",
       "    }\n",
       "\n",
       "    .dataframe thead th {\n",
       "        text-align: right;\n",
       "    }\n",
       "</style>\n",
       "<table border=\"1\" class=\"dataframe\">\n",
       "  <thead>\n",
       "    <tr style=\"text-align: right;\">\n",
       "      <th></th>\n",
       "      <th>text</th>\n",
       "      <th>sentiment</th>\n",
       "      <th>extra</th>\n",
       "    </tr>\n",
       "  </thead>\n",
       "  <tbody>\n",
       "    <tr>\n",
       "      <th>13637</th>\n",
       "      <td>movie abi b baki h</td>\n",
       "      <td>Neutral</td>\n",
       "      <td>----------------</td>\n",
       "    </tr>\n",
       "    <tr>\n",
       "      <th>13653</th>\n",
       "      <td>Hahahahahaha bilkul sahi</td>\n",
       "      <td>Neutral</td>\n",
       "      <td>----------</td>\n",
       "    </tr>\n",
       "    <tr>\n",
       "      <th>14218</th>\n",
       "      <td>tjhe ase mar na chahti hun  tjhe nae tu achi bachi hy</td>\n",
       "      <td>Negative</td>\n",
       "      <td>-------</td>\n",
       "    </tr>\n",
       "    <tr>\n",
       "      <th>14810</th>\n",
       "      <td>Yr tym pta chali kb ata raat m?</td>\n",
       "      <td>Positive</td>\n",
       "      <td>------</td>\n",
       "    </tr>\n",
       "    <tr>\n",
       "      <th>17161</th>\n",
       "      <td>Kya khatab g ledy type ka sahafi la k betha diya</td>\n",
       "      <td>Negative</td>\n",
       "      <td>9090</td>\n",
       "    </tr>\n",
       "    <tr>\n",
       "      <th>19499</th>\n",
       "      <td>kabhi bhai ki bhi aesi pic lele :P</td>\n",
       "      <td>Neutral</td>\n",
       "      <td>till here</td>\n",
       "    </tr>\n",
       "    <tr>\n",
       "      <th>19780</th>\n",
       "      <td>Jahil awam ko jahil leader ki hi zroorat hai, yeh Aunty bachon ko parhney k liye school nh pyari pyari sarkoon pr bhejey gi :D Nawaz sharif to 3 3 mahiney london rehta hai sarkein kya khaak banaye ga</td>\n",
       "      <td>Negative</td>\n",
       "      <td>till here</td>\n",
       "    </tr>\n",
       "  </tbody>\n",
       "</table>\n",
       "</div>"
      ],
      "text/plain": [
       "                                                                                                                                                                                                          text sentiment             extra\n",
       "13637                                                                                                                                                                                       movie abi b baki h   Neutral  ----------------\n",
       "13653                                                                                                                                                                                 Hahahahahaha bilkul sahi   Neutral        ----------\n",
       "14218                                                                                                                                                    tjhe ase mar na chahti hun  tjhe nae tu achi bachi hy  Negative           -------\n",
       "14810                                                                                                                                                                          Yr tym pta chali kb ata raat m?  Positive            ------\n",
       "17161                                                                                                                                                         Kya khatab g ledy type ka sahafi la k betha diya  Negative              9090\n",
       "19499                                                                                                                                                                       kabhi bhai ki bhi aesi pic lele :P   Neutral         till here\n",
       "19780  Jahil awam ko jahil leader ki hi zroorat hai, yeh Aunty bachon ko parhney k liye school nh pyari pyari sarkoon pr bhejey gi :D Nawaz sharif to 3 3 mahiney london rehta hai sarkein kya khaak banaye ga  Negative         till here"
      ]
     },
     "execution_count": 6,
     "metadata": {},
     "output_type": "execute_result"
    }
   ],
   "source": [
    "#Check values for rows that are not null in the 'extra' column\n",
    "data[~data.extra.isnull()]"
   ]
  },
  {
   "cell_type": "code",
   "execution_count": 7,
   "metadata": {},
   "outputs": [],
   "source": [
    "#Drop 'extra' column as it contains jargon that will be of no use to our model\n",
    "data = data.drop('extra',axis=1)\n",
    "data = data.reset_index(drop=True)"
   ]
  },
  {
   "cell_type": "code",
   "execution_count": 8,
   "metadata": {},
   "outputs": [
    {
     "data": {
      "text/plain": [
       "Neutral     8525\n",
       "Positive    5846\n",
       "Negative    5243\n",
       "Neative        1\n",
       "Name: sentiment, dtype: int64"
      ]
     },
     "execution_count": 8,
     "metadata": {},
     "output_type": "execute_result"
    }
   ],
   "source": [
    "data.sentiment.value_counts()"
   ]
  },
  {
   "cell_type": "code",
   "execution_count": 9,
   "metadata": {},
   "outputs": [
    {
     "data": {
      "text/html": [
       "<div>\n",
       "<style scoped>\n",
       "    .dataframe tbody tr th:only-of-type {\n",
       "        vertical-align: middle;\n",
       "    }\n",
       "\n",
       "    .dataframe tbody tr th {\n",
       "        vertical-align: top;\n",
       "    }\n",
       "\n",
       "    .dataframe thead th {\n",
       "        text-align: right;\n",
       "    }\n",
       "</style>\n",
       "<table border=\"1\" class=\"dataframe\">\n",
       "  <thead>\n",
       "    <tr style=\"text-align: right;\">\n",
       "      <th></th>\n",
       "      <th>text</th>\n",
       "      <th>sentiment</th>\n",
       "    </tr>\n",
       "  </thead>\n",
       "  <tbody>\n",
       "    <tr>\n",
       "      <th>12746</th>\n",
       "      <td>product achi hai but wrong waist size send kar diya.</td>\n",
       "      <td>Neative</td>\n",
       "    </tr>\n",
       "  </tbody>\n",
       "</table>\n",
       "</div>"
      ],
      "text/plain": [
       "                                                       text sentiment\n",
       "12746  product achi hai but wrong waist size send kar diya.   Neative"
      ]
     },
     "execution_count": 9,
     "metadata": {},
     "output_type": "execute_result"
    }
   ],
   "source": [
    "data[data.sentiment == 'Neative']"
   ]
  },
  {
   "cell_type": "code",
   "execution_count": 10,
   "metadata": {},
   "outputs": [
    {
     "name": "stdout",
     "output_type": "stream",
     "text": [
      "(19615, 2)\n"
     ]
    },
    {
     "data": {
      "text/plain": [
       "Neutral     8525\n",
       "Positive    5846\n",
       "Negative    5244\n",
       "Name: sentiment, dtype: int64"
      ]
     },
     "execution_count": 10,
     "metadata": {},
     "output_type": "execute_result"
    }
   ],
   "source": [
    "#There is one row with sentiment 'Neative', this looks like a typo and should be replaced with 'Negative'\n",
    "data['sentiment'] = np.where(data.sentiment == 'Neative','Negative',data.sentiment)\n",
    "print(data.shape)\n",
    "data.sentiment.value_counts()"
   ]
  },
  {
   "cell_type": "code",
   "execution_count": 11,
   "metadata": {},
   "outputs": [],
   "source": [
    "#These text messages have emojis in the messages, the following function counts the number of emojis in each message\n",
    "def count_emoji(text):\n",
    "    \"\"\"\n",
    "      text: each input string\n",
    "    \"\"\"\n",
    "    count = sum([1 for char in str(text) if char in UNICODE_EMOJI])\n",
    "    return count\n",
    "\n",
    "data['emoji_count'] = data['text'].apply(lambda x: count_emoji(x))"
   ]
  },
  {
   "cell_type": "code",
   "execution_count": 12,
   "metadata": {},
   "outputs": [
    {
     "data": {
      "text/plain": [
       "Neutral     758\n",
       "Negative    239\n",
       "Positive    187\n",
       "Name: sentiment, dtype: int64"
      ]
     },
     "execution_count": 12,
     "metadata": {},
     "output_type": "execute_result"
    }
   ],
   "source": [
    "data[data.emoji_count > 0].sentiment.value_counts()"
   ]
  },
  {
   "cell_type": "code",
   "execution_count": 13,
   "metadata": {},
   "outputs": [
    {
     "data": {
      "text/html": [
       "<div>\n",
       "<style scoped>\n",
       "    .dataframe tbody tr th:only-of-type {\n",
       "        vertical-align: middle;\n",
       "    }\n",
       "\n",
       "    .dataframe tbody tr th {\n",
       "        vertical-align: top;\n",
       "    }\n",
       "\n",
       "    .dataframe thead th {\n",
       "        text-align: right;\n",
       "    }\n",
       "</style>\n",
       "<table border=\"1\" class=\"dataframe\">\n",
       "  <thead>\n",
       "    <tr style=\"text-align: right;\">\n",
       "      <th></th>\n",
       "      <th>text</th>\n",
       "      <th>sentiment</th>\n",
       "      <th>emoji_count</th>\n",
       "      <th>len_text</th>\n",
       "    </tr>\n",
       "  </thead>\n",
       "  <tbody>\n",
       "    <tr>\n",
       "      <th>0</th>\n",
       "      <td>Sai kha ya her kisi kay bus ki bat nhi hai lakin main ki hal kal bi Aj aur aj bi sirf Aus say bus</td>\n",
       "      <td>Positive</td>\n",
       "      <td>0</td>\n",
       "      <td>97</td>\n",
       "    </tr>\n",
       "    <tr>\n",
       "      <th>1</th>\n",
       "      <td>sahi bt h</td>\n",
       "      <td>Positive</td>\n",
       "      <td>0</td>\n",
       "      <td>9</td>\n",
       "    </tr>\n",
       "    <tr>\n",
       "      <th>2</th>\n",
       "      <td>Kya bt hai,</td>\n",
       "      <td>Positive</td>\n",
       "      <td>0</td>\n",
       "      <td>11</td>\n",
       "    </tr>\n",
       "    <tr>\n",
       "      <th>3</th>\n",
       "      <td>Wah je wah</td>\n",
       "      <td>Positive</td>\n",
       "      <td>0</td>\n",
       "      <td>10</td>\n",
       "    </tr>\n",
       "    <tr>\n",
       "      <th>4</th>\n",
       "      <td>Are wha kaya bat hai</td>\n",
       "      <td>Positive</td>\n",
       "      <td>0</td>\n",
       "      <td>20</td>\n",
       "    </tr>\n",
       "  </tbody>\n",
       "</table>\n",
       "</div>"
      ],
      "text/plain": [
       "                                                                                                text sentiment  emoji_count  len_text\n",
       "0  Sai kha ya her kisi kay bus ki bat nhi hai lakin main ki hal kal bi Aj aur aj bi sirf Aus say bus  Positive            0        97\n",
       "1                                                                                          sahi bt h  Positive            0         9\n",
       "2                                                                                        Kya bt hai,  Positive            0        11\n",
       "3                                                                                         Wah je wah  Positive            0        10\n",
       "4                                                                               Are wha kaya bat hai  Positive            0        20"
      ]
     },
     "execution_count": 13,
     "metadata": {},
     "output_type": "execute_result"
    }
   ],
   "source": [
    "data['len_text'] = data['text'].apply(lambda x : len(x))\n",
    "data.head()"
   ]
  },
  {
   "cell_type": "code",
   "execution_count": 14,
   "metadata": {},
   "outputs": [
    {
     "data": {
      "text/html": [
       "<div>\n",
       "<style scoped>\n",
       "    .dataframe tbody tr th:only-of-type {\n",
       "        vertical-align: middle;\n",
       "    }\n",
       "\n",
       "    .dataframe tbody tr th {\n",
       "        vertical-align: top;\n",
       "    }\n",
       "\n",
       "    .dataframe thead th {\n",
       "        text-align: right;\n",
       "    }\n",
       "</style>\n",
       "<table border=\"1\" class=\"dataframe\">\n",
       "  <thead>\n",
       "    <tr style=\"text-align: right;\">\n",
       "      <th></th>\n",
       "      <th>text</th>\n",
       "      <th>sentiment</th>\n",
       "      <th>emoji_count</th>\n",
       "      <th>len_text</th>\n",
       "    </tr>\n",
       "  </thead>\n",
       "  <tbody>\n",
       "    <tr>\n",
       "      <th>7802</th>\n",
       "      <td></td>\n",
       "      <td>Neutral</td>\n",
       "      <td>0</td>\n",
       "      <td>0</td>\n",
       "    </tr>\n",
       "  </tbody>\n",
       "</table>\n",
       "</div>"
      ],
      "text/plain": [
       "     text sentiment  emoji_count  len_text\n",
       "7802        Neutral            0         0"
      ]
     },
     "execution_count": 14,
     "metadata": {},
     "output_type": "execute_result"
    }
   ],
   "source": [
    "#Check for missing data\n",
    "data[(data.len_text==0) | (data.text=='') | (data.text.isnull())]"
   ]
  },
  {
   "cell_type": "code",
   "execution_count": 15,
   "metadata": {},
   "outputs": [
    {
     "data": {
      "text/html": [
       "<div>\n",
       "<style scoped>\n",
       "    .dataframe tbody tr th:only-of-type {\n",
       "        vertical-align: middle;\n",
       "    }\n",
       "\n",
       "    .dataframe tbody tr th {\n",
       "        vertical-align: top;\n",
       "    }\n",
       "\n",
       "    .dataframe thead th {\n",
       "        text-align: right;\n",
       "    }\n",
       "</style>\n",
       "<table border=\"1\" class=\"dataframe\">\n",
       "  <thead>\n",
       "    <tr style=\"text-align: right;\">\n",
       "      <th></th>\n",
       "      <th>emoji_count</th>\n",
       "      <th>len_text</th>\n",
       "    </tr>\n",
       "  </thead>\n",
       "  <tbody>\n",
       "    <tr>\n",
       "      <th>count</th>\n",
       "      <td>19615.000000</td>\n",
       "      <td>19615.000000</td>\n",
       "    </tr>\n",
       "    <tr>\n",
       "      <th>mean</th>\n",
       "      <td>0.137344</td>\n",
       "      <td>68.974152</td>\n",
       "    </tr>\n",
       "    <tr>\n",
       "      <th>std</th>\n",
       "      <td>0.651766</td>\n",
       "      <td>70.874119</td>\n",
       "    </tr>\n",
       "    <tr>\n",
       "      <th>min</th>\n",
       "      <td>0.000000</td>\n",
       "      <td>0.000000</td>\n",
       "    </tr>\n",
       "    <tr>\n",
       "      <th>25%</th>\n",
       "      <td>0.000000</td>\n",
       "      <td>27.000000</td>\n",
       "    </tr>\n",
       "    <tr>\n",
       "      <th>50%</th>\n",
       "      <td>0.000000</td>\n",
       "      <td>47.000000</td>\n",
       "    </tr>\n",
       "    <tr>\n",
       "      <th>75%</th>\n",
       "      <td>0.000000</td>\n",
       "      <td>89.000000</td>\n",
       "    </tr>\n",
       "    <tr>\n",
       "      <th>max</th>\n",
       "      <td>11.000000</td>\n",
       "      <td>2017.000000</td>\n",
       "    </tr>\n",
       "  </tbody>\n",
       "</table>\n",
       "</div>"
      ],
      "text/plain": [
       "        emoji_count      len_text\n",
       "count  19615.000000  19615.000000\n",
       "mean       0.137344     68.974152\n",
       "std        0.651766     70.874119\n",
       "min        0.000000      0.000000\n",
       "25%        0.000000     27.000000\n",
       "50%        0.000000     47.000000\n",
       "75%        0.000000     89.000000\n",
       "max       11.000000   2017.000000"
      ]
     },
     "execution_count": 15,
     "metadata": {},
     "output_type": "execute_result"
    }
   ],
   "source": [
    "data.describe()"
   ]
  },
  {
   "cell_type": "code",
   "execution_count": 16,
   "metadata": {},
   "outputs": [
    {
     "data": {
      "image/png": "[encoded data removed]",
      "text/plain": [
       "<Figure size 1080x360 with 1 Axes>"
      ]
     },
     "metadata": {
      "needs_background": "light"
     },
     "output_type": "display_data"
    }
   ],
   "source": [
    "#Distribution of word count \n",
    "bins = np.linspace(0, 300, 50)\n",
    "kwargs = dict(alpha=0.5, bins=bins)\n",
    "plt.figure(figsize=(15, 5))\n",
    "plt.hist(data['len_text'], **kwargs,color='y')\n",
    "plt.title('Distribution of Word Count in Text')\n",
    "plt.show()"
   ]
  },
  {
   "cell_type": "code",
   "execution_count": 17,
   "metadata": {},
   "outputs": [
    {
     "data": {
      "image/png": "[encoded data removed]",
      "text/plain": [
       "<Figure size 1080x360 with 1 Axes>"
      ]
     },
     "metadata": {
      "needs_background": "light"
     },
     "output_type": "display_data"
    }
   ],
   "source": [
    "#Distribution of word count by each sentiment\n",
    "positive = data.loc[data.sentiment == 'Positive','len_text']\n",
    "negative = data.loc[data.sentiment == 'Negative','len_text']\n",
    "neutral = data.loc[data.sentiment == 'Neutral','len_text']\n",
    "kwargs = dict(alpha=0.4, bins=bins,density=True)\n",
    "plt.figure(figsize=(15, 5))\n",
    "plt.hist(positive, **kwargs, color='g', label='Positive')\n",
    "plt.hist(negative, **kwargs, color='r', label='Negative')\n",
    "plt.hist(neutral, **kwargs, color='y', label='Neutral')\n",
    "\n",
    "plt.gca().set(title='Frequency Histogram of Word Count in Text by Sentiment')\n",
    "\n",
    "plt.legend();"
   ]
  },
  {
   "cell_type": "code",
   "execution_count": 18,
   "metadata": {},
   "outputs": [
    {
     "data": {
      "image/png": "[encoded data removed]",
      "text/plain": [
       "<Figure size 1080x360 with 1 Axes>"
      ]
     },
     "metadata": {
      "needs_background": "light"
     },
     "output_type": "display_data"
    }
   ],
   "source": [
    "#Distribution of emoji count by each sentiment\n",
    "positive = data.loc[data.sentiment == 'Positive','emoji_count']\n",
    "negative = data.loc[data.sentiment == 'Negative','emoji_count']\n",
    "neutral = data.loc[data.sentiment == 'Neutral','emoji_count']\n",
    "kwargs = dict(alpha=0.5, bins=10)\n",
    "plt.figure(figsize=(15, 5))\n",
    "plt.hist(positive, **kwargs, color='g', label='Positive')\n",
    "plt.hist(negative, **kwargs, color='r', label='Negative')\n",
    "plt.hist(neutral, **kwargs, color='y', label='Neutral')\n",
    "\n",
    "plt.gca().set(title='Frequency Histogram of Emoji Count in Text by Sentiment', ylabel='Frequency')\n",
    "plt.xlim(0,11)\n",
    "plt.legend();"
   ]
  },
  {
   "cell_type": "code",
   "execution_count": 19,
   "metadata": {},
   "outputs": [],
   "source": [
    "#Clean the text data - remove punctuations\n",
    "def preprocessing_text(text):\n",
    "    \"\"\"\n",
    "      text: each input string\n",
    "    \"\"\"\n",
    "    text = text.translate(str.maketrans('', '', string.punctuation))\n",
    "    text = [word for word in text.split()]\n",
    "    return \" \".join(text)"
   ]
  },
  {
   "cell_type": "code",
   "execution_count": 20,
   "metadata": {},
   "outputs": [],
   "source": [
    "data['clean_text'] = data.text.apply(preprocessing_text)"
   ]
  },
  {
   "cell_type": "code",
   "execution_count": 21,
   "metadata": {},
   "outputs": [
    {
     "data": {
      "text/html": [
       "<div>\n",
       "<style scoped>\n",
       "    .dataframe tbody tr th:only-of-type {\n",
       "        vertical-align: middle;\n",
       "    }\n",
       "\n",
       "    .dataframe tbody tr th {\n",
       "        vertical-align: top;\n",
       "    }\n",
       "\n",
       "    .dataframe thead th {\n",
       "        text-align: right;\n",
       "    }\n",
       "</style>\n",
       "<table border=\"1\" class=\"dataframe\">\n",
       "  <thead>\n",
       "    <tr style=\"text-align: right;\">\n",
       "      <th></th>\n",
       "      <th>text</th>\n",
       "      <th>sentiment</th>\n",
       "      <th>emoji_count</th>\n",
       "      <th>len_text</th>\n",
       "      <th>clean_text</th>\n",
       "    </tr>\n",
       "  </thead>\n",
       "  <tbody>\n",
       "    <tr>\n",
       "      <th>0</th>\n",
       "      <td>Sai kha ya her kisi kay bus ki bat nhi hai lakin main ki hal kal bi Aj aur aj bi sirf Aus say bus</td>\n",
       "      <td>Positive</td>\n",
       "      <td>0</td>\n",
       "      <td>97</td>\n",
       "      <td>Sai kha ya her kisi kay bus ki bat nhi hai lakin main ki hal kal bi Aj aur aj bi sirf Aus say bus</td>\n",
       "    </tr>\n",
       "    <tr>\n",
       "      <th>1</th>\n",
       "      <td>sahi bt h</td>\n",
       "      <td>Positive</td>\n",
       "      <td>0</td>\n",
       "      <td>9</td>\n",
       "      <td>sahi bt h</td>\n",
       "    </tr>\n",
       "    <tr>\n",
       "      <th>2</th>\n",
       "      <td>Kya bt hai,</td>\n",
       "      <td>Positive</td>\n",
       "      <td>0</td>\n",
       "      <td>11</td>\n",
       "      <td>Kya bt hai</td>\n",
       "    </tr>\n",
       "    <tr>\n",
       "      <th>3</th>\n",
       "      <td>Wah je wah</td>\n",
       "      <td>Positive</td>\n",
       "      <td>0</td>\n",
       "      <td>10</td>\n",
       "      <td>Wah je wah</td>\n",
       "    </tr>\n",
       "    <tr>\n",
       "      <th>4</th>\n",
       "      <td>Are wha kaya bat hai</td>\n",
       "      <td>Positive</td>\n",
       "      <td>0</td>\n",
       "      <td>20</td>\n",
       "      <td>Are wha kaya bat hai</td>\n",
       "    </tr>\n",
       "  </tbody>\n",
       "</table>\n",
       "</div>"
      ],
      "text/plain": [
       "                                                                                                text sentiment  emoji_count  len_text                                                                                         clean_text\n",
       "0  Sai kha ya her kisi kay bus ki bat nhi hai lakin main ki hal kal bi Aj aur aj bi sirf Aus say bus  Positive            0        97  Sai kha ya her kisi kay bus ki bat nhi hai lakin main ki hal kal bi Aj aur aj bi sirf Aus say bus\n",
       "1                                                                                          sahi bt h  Positive            0         9                                                                                          sahi bt h\n",
       "2                                                                                        Kya bt hai,  Positive            0        11                                                                                         Kya bt hai\n",
       "3                                                                                         Wah je wah  Positive            0        10                                                                                         Wah je wah\n",
       "4                                                                               Are wha kaya bat hai  Positive            0        20                                                                               Are wha kaya bat hai"
      ]
     },
     "execution_count": 21,
     "metadata": {},
     "output_type": "execute_result"
    }
   ],
   "source": [
    "data.head()"
   ]
  },
  {
   "cell_type": "markdown",
   "metadata": {},
   "source": [
    "As part of data cleaning, we need to remove the stop words too but this text is not entirely in English. We can't use the existing stopword list from nltk library as it does not support this langauge, so the 'English' list needs to be enhanced using the corpus of words created from this dataset."
   ]
  },
  {
   "cell_type": "code",
   "execution_count": 22,
   "metadata": {},
   "outputs": [],
   "source": [
    "#Identify 50 most common words in the corpus\n",
    "def common_words_corpus(data):\n",
    "    words_list = ' '.join([i.lower() for i in data]).split()\n",
    "    print(\"Total words in corpus : \",len(words_list))\n",
    "    freqDist = FreqDist(words_list)\n",
    "    print(\"Total unique words in corpus : \",len(freqDist.keys()))\n",
    "    print(\"Fifty most used words in the corpus\")\n",
    "    plt.figure(figsize=(15, 5))\n",
    "    freqDist.plot(50)\n",
    "    "
   ]
  },
  {
   "cell_type": "code",
   "execution_count": 23,
   "metadata": {},
   "outputs": [
    {
     "name": "stdout",
     "output_type": "stream",
     "text": [
      "Total words in corpus :  263491\n",
      "Total unique words in corpus :  34215\n",
      "Fifty most used words in the corpus\n"
     ]
    },
    {
     "data": {
      "image/png": "[encoded data removed]",
      "text/plain": [
       "<Figure size 1080x360 with 1 Axes>"
      ]
     },
     "metadata": {
      "needs_background": "light"
     },
     "output_type": "display_data"
    }
   ],
   "source": [
    "#Identify most common words in the corpus\n",
    "common_words_corpus(data['clean_text'])\n"
   ]
  },
  {
   "cell_type": "code",
   "execution_count": 24,
   "metadata": {},
   "outputs": [
    {
     "name": "stdout",
     "output_type": "stream",
     "text": [
      "Total words in corpus :  95122\n",
      "Total unique words in corpus :  16229\n",
      "Fifty most used words in the corpus\n"
     ]
    },
    {
     "data": {
      "image/png": "[encoded data removed]",
      "text/plain": [
       "<Figure size 1080x360 with 1 Axes>"
      ]
     },
     "metadata": {
      "needs_background": "light"
     },
     "output_type": "display_data"
    }
   ],
   "source": [
    "#Identify most common words in texts with Positive Sentiment\n",
    "common_words_corpus(data.loc[data.sentiment == 'Positive','clean_text'])"
   ]
  },
  {
   "cell_type": "code",
   "execution_count": 25,
   "metadata": {},
   "outputs": [
    {
     "name": "stdout",
     "output_type": "stream",
     "text": [
      "Total words in corpus :  80581\n",
      "Total unique words in corpus :  16525\n",
      "Fifty most used words in the corpus\n"
     ]
    },
    {
     "data": {
      "image/png": "[encoded data removed]",
      "text/plain": [
       "<Figure size 1080x360 with 1 Axes>"
      ]
     },
     "metadata": {
      "needs_background": "light"
     },
     "output_type": "display_data"
    }
   ],
   "source": [
    "#Identify most common words in texts with Negative Sentiment\n",
    "common_words_corpus(data.loc[data.sentiment == 'Negative','clean_text'])"
   ]
  },
  {
   "cell_type": "code",
   "execution_count": 26,
   "metadata": {},
   "outputs": [
    {
     "name": "stdout",
     "output_type": "stream",
     "text": [
      "Total words in corpus :  87788\n",
      "Total unique words in corpus :  17163\n",
      "Fifty most used words in the corpus\n"
     ]
    },
    {
     "data": {
      "image/png": "[encoded data removed]",
      "text/plain": [
       "<Figure size 1080x360 with 1 Axes>"
      ]
     },
     "metadata": {
      "needs_background": "light"
     },
     "output_type": "display_data"
    }
   ],
   "source": [
    "#Identify most common words in texts with Neutral Sentiment\n",
    "common_words_corpus(data.loc[data.sentiment == 'Neutral','clean_text'])"
   ]
  },
  {
   "cell_type": "markdown",
   "metadata": {},
   "source": [
    "There is some overlap between the most commonly used words in the text for all three sentiment types. We include those words to our stopword list."
   ]
  },
  {
   "cell_type": "code",
   "execution_count": 27,
   "metadata": {},
   "outputs": [],
   "source": [
    "urdu_stopwords = ['ke','ki','mein','hai','ka','aur','ko','se','k','to','ne','bhi','hain','is','ho','kar','par',\n",
    "                  'wo','ye','b','e','hi','ha','tha','main','h','jo','liye','yeh','lekin', 'lakin', 'kitna', 'ke',\n",
    "                  'hota', 'hon', 'kab', 'kb', 'kabhi', 'sirf', 'hoti', 'hote', 'magar', 'app', 'agar', 'agr',\n",
    "                  'hun', 'hu', 'rha', 'raha', 'ja', 'rahay']"
   ]
  },
  {
   "cell_type": "code",
   "execution_count": 28,
   "metadata": {},
   "outputs": [],
   "source": [
    "stopwords_list = stopwords.words('english')\n",
    "#stopwords_list.extend(urdu_stopwords)"
   ]
  },
  {
   "cell_type": "code",
   "execution_count": 29,
   "metadata": {},
   "outputs": [],
   "source": [
    "#Remove stopwords from text\n",
    "def remove_stopwords(text):\n",
    "    text = [word.lower() for word in text.split() if word.lower() not in stopwords_list]\n",
    "    return \" \".join(text)"
   ]
  },
  {
   "cell_type": "code",
   "execution_count": 30,
   "metadata": {},
   "outputs": [],
   "source": [
    "data['clean_text'] = data['clean_text'].apply(lambda x : remove_stopwords(x) )"
   ]
  },
  {
   "cell_type": "code",
   "execution_count": 31,
   "metadata": {},
   "outputs": [
    {
     "name": "stdout",
     "output_type": "stream",
     "text": [
      "Number of rows with missing text: 64\n"
     ]
    },
    {
     "data": {
      "text/plain": [
       "Neutral     63\n",
       "Negative     1\n",
       "Name: sentiment, dtype: int64"
      ]
     },
     "execution_count": 31,
     "metadata": {},
     "output_type": "execute_result"
    }
   ],
   "source": [
    "#Checking for missing values after preprocessing text\n",
    "print(\"Number of rows with missing text:\",len(data[data['clean_text']=='']))\n",
    "data[data['clean_text']==''].sentiment.value_counts()"
   ]
  },
  {
   "cell_type": "code",
   "execution_count": 32,
   "metadata": {},
   "outputs": [
    {
     "data": {
      "text/html": [
       "<div>\n",
       "<style scoped>\n",
       "    .dataframe tbody tr th:only-of-type {\n",
       "        vertical-align: middle;\n",
       "    }\n",
       "\n",
       "    .dataframe tbody tr th {\n",
       "        vertical-align: top;\n",
       "    }\n",
       "\n",
       "    .dataframe thead th {\n",
       "        text-align: right;\n",
       "    }\n",
       "</style>\n",
       "<table border=\"1\" class=\"dataframe\">\n",
       "  <thead>\n",
       "    <tr style=\"text-align: right;\">\n",
       "      <th></th>\n",
       "      <th>text</th>\n",
       "      <th>sentiment</th>\n",
       "      <th>emoji_count</th>\n",
       "      <th>len_text</th>\n",
       "      <th>clean_text</th>\n",
       "    </tr>\n",
       "  </thead>\n",
       "  <tbody>\n",
       "    <tr>\n",
       "      <th>4547</th>\n",
       "      <td>you too</td>\n",
       "      <td>Neutral</td>\n",
       "      <td>0</td>\n",
       "      <td>7</td>\n",
       "      <td></td>\n",
       "    </tr>\n",
       "    <tr>\n",
       "      <th>4603</th>\n",
       "      <td>:D</td>\n",
       "      <td>Neutral</td>\n",
       "      <td>0</td>\n",
       "      <td>2</td>\n",
       "      <td></td>\n",
       "    </tr>\n",
       "    <tr>\n",
       "      <th>4736</th>\n",
       "      <td>What is this</td>\n",
       "      <td>Neutral</td>\n",
       "      <td>0</td>\n",
       "      <td>12</td>\n",
       "      <td></td>\n",
       "    </tr>\n",
       "    <tr>\n",
       "      <th>4788</th>\n",
       "      <td>what??</td>\n",
       "      <td>Neutral</td>\n",
       "      <td>0</td>\n",
       "      <td>6</td>\n",
       "      <td></td>\n",
       "    </tr>\n",
       "    <tr>\n",
       "      <th>5024</th>\n",
       "      <td>It's me</td>\n",
       "      <td>Neutral</td>\n",
       "      <td>0</td>\n",
       "      <td>7</td>\n",
       "      <td></td>\n",
       "    </tr>\n",
       "  </tbody>\n",
       "</table>\n",
       "</div>"
      ],
      "text/plain": [
       "              text sentiment  emoji_count  len_text clean_text\n",
       "4547       you too   Neutral            0         7           \n",
       "4603            :D   Neutral            0         2           \n",
       "4736  What is this   Neutral            0        12           \n",
       "4788        what??   Neutral            0         6           \n",
       "5024       It's me   Neutral            0         7           "
      ]
     },
     "execution_count": 32,
     "metadata": {},
     "output_type": "execute_result"
    }
   ],
   "source": [
    "data[(data['clean_text']=='')].head()"
   ]
  },
  {
   "cell_type": "code",
   "execution_count": 33,
   "metadata": {},
   "outputs": [
    {
     "name": "stdout",
     "output_type": "stream",
     "text": [
      "(19551, 5)\n"
     ]
    }
   ],
   "source": [
    "#Drop rows with missing text\n",
    "data = data[data.clean_text!='']\n",
    "data = data.reset_index(drop=True)\n",
    "print(data.shape)"
   ]
  },
  {
   "cell_type": "code",
   "execution_count": 50,
   "metadata": {},
   "outputs": [
    {
     "name": "stdout",
     "output_type": "stream",
     "text": [
      "(19416, 2)\n"
     ]
    }
   ],
   "source": [
    "#Remove duplicate rows after text cleaning\n",
    "df = data[['clean_text','sentiment']]\n",
    "df = df.drop_duplicates()\n",
    "df = df.reset_index(drop=True)\n",
    "print(df.shape)"
   ]
  },
  {
   "cell_type": "markdown",
   "metadata": {},
   "source": [
    "# Convert Text to Vectors\n",
    "Sentiment Classifier can not directly classify text and thus text needs to be converted into vectors. We take character 3-grams, 4-grams and 5-grams while ignoring n-grams with document frequency less than 2 to create TF-IDF vectors. Character n-grams are especially powerful at detecting patterns in texts with misspellings, and are substantially less sparse than word n-grams."
   ]
  },
  {
   "cell_type": "code",
   "execution_count": 51,
   "metadata": {},
   "outputs": [
    {
     "data": {
      "text/plain": [
       "(19416, 134677)"
      ]
     },
     "execution_count": 51,
     "metadata": {},
     "output_type": "execute_result"
    }
   ],
   "source": [
    "vectorizer = TfidfVectorizer(analyzer = 'char',ngram_range=(3,5),min_df=2)\n",
    "vectors = vectorizer.fit_transform(df['clean_text'])\n",
    "vectors.shape"
   ]
  },
  {
   "cell_type": "markdown",
   "metadata": {},
   "source": [
    "# Classification Model\n",
    "We split the dataset into Test and Train keeping same proportion of class labels. However, this dataset has imbalanced classes with 43% texts with 'Neutral Sentiment', 30% texts with 'Positive Sentiment' and remaining 27% text with 'Negative Sentiment'. Therefore, accuracy alone can not be used to evaluate the overall performance of a classifier as it will not properly account for the performances of each class here because of the skewed distribution of class labels. Hence, we also use F1 score (Harmonic Mean of Precision and Recall) for each class. Also, to handle class imbalance in the dataset, we perform random undersampling of majority class. A character n-gram based SVM model is used to predict the sentiment of Roman Urdu text messages.\n",
    "\n",
    "* Independent Variable : Character TF-IDF Feature Vector Matrix\n",
    "* Dependent Variable: Sentiment\n",
    "\n",
    "\n"
   ]
  },
  {
   "cell_type": "code",
   "execution_count": 52,
   "metadata": {},
   "outputs": [
    {
     "name": "stdout",
     "output_type": "stream",
     "text": [
      "(15532, 134677)\n",
      "(3884, 134677)\n",
      "(15532,)\n",
      "(3884,)\n"
     ]
    }
   ],
   "source": [
    "#Splitting data in train (80%) and test (20%)\n",
    "X_train, X_test, y_train, y_test = train_test_split(vectors, df['sentiment'], stratify= df['sentiment'],test_size=0.2, random_state=10)\n",
    "print (X_train.shape)\n",
    "print (X_test.shape)\n",
    "print (y_train.shape)\n",
    "print (y_test.shape)"
   ]
  },
  {
   "cell_type": "code",
   "execution_count": 53,
   "metadata": {},
   "outputs": [
    {
     "name": "stdout",
     "output_type": "stream",
     "text": [
      "(12579, 134677) (12579,)\n"
     ]
    }
   ],
   "source": [
    "#Random undersampling of majority class on train data\n",
    "rus = RandomUnderSampler(random_state=42)\n",
    "X_train, y_train = rus.fit_resample(X_train, y_train)\n",
    "print(X_train.shape,y_train.shape)"
   ]
  },
  {
   "cell_type": "code",
   "execution_count": 62,
   "metadata": {},
   "outputs": [
    {
     "name": "stdout",
     "output_type": "stream",
     "text": [
      "Accuracy for SVM Validation: 0.6355035131026243\n",
      "Accuracy for MNB Validation: 0.606486992196266\n",
      "Accuracy for RF Validation: 0.6089502729252467\n"
     ]
    }
   ],
   "source": [
    "#Perform K-Fold cross validation for model selection\n",
    "kfold =  StratifiedKFold(n_splits=5, random_state=100,shuffle=True)\n",
    "svm = LinearSVC(C=0.5)\n",
    "print(\"Accuracy for SVM Validation:\",np.mean(cross_val_score(svm, X_train, y_train, cv=kfold, scoring='accuracy')))\n",
    "mnb = MultinomialNB(alpha=0.25)\n",
    "print(\"Accuracy for MNB Validation:\",np.mean(cross_val_score(mnb, X_train, y_train, cv=kfold, scoring='accuracy')))\n",
    "rfc = RandomForestClassifier(n_estimators=100,  random_state=111)\n",
    "print(\"Accuracy for RF Validation:\",np.mean(cross_val_score(rfc, X_train, y_train, cv=kfold, scoring='accuracy')))"
   ]
  },
  {
   "cell_type": "code",
   "execution_count": 63,
   "metadata": {},
   "outputs": [
    {
     "name": "stdout",
     "output_type": "stream",
     "text": [
      "Accuracy for Test:  0.6583419155509783\n",
      "              precision    recall  f1-score   support\n",
      "\n",
      "    Negative       0.67      0.59      0.63      1185\n",
      "     Neutral       0.65      0.70      0.67      1545\n",
      "    Positive       0.67      0.67      0.67      1154\n",
      "\n",
      "    accuracy                           0.66      3884\n",
      "   macro avg       0.66      0.65      0.66      3884\n",
      "weighted avg       0.66      0.66      0.66      3884\n",
      "\n"
     ]
    }
   ],
   "source": [
    "#Using Support Vector Machines (model with highest accuracy) to predict on Test Data\n",
    "svm.fit(X_train, y_train)\n",
    "print (\"Accuracy for Test: \" ,  (accuracy_score(y_test, svm.predict(X_test))))\n",
    "print(classification_report(svm.predict(X_test),y_test))"
   ]
  },
  {
   "cell_type": "code",
   "execution_count": 64,
   "metadata": {},
   "outputs": [
    {
     "name": "stdout",
     "output_type": "stream",
     "text": [
      "Sentiment : ['Positive']\n"
     ]
    }
   ],
   "source": [
    "#Classifying Sentiment on Sample Data using the model\n",
    "text = \"Woh to MASHA'ALLAH se meri qabliat Hai.. \"\n",
    "text = preprocessing_text(text)\n",
    "text = remove_stopwords(text)\n",
    "text_vector = vectorizer.transform([text])\n",
    "print(\"Sentiment :\",(svm.predict(text_vector)))\n"
   ]
  },
  {
   "cell_type": "markdown",
   "metadata": {},
   "source": [
    "# Conclusion\n",
    "We observe in the training data that some text messages have been classified incorrectly. For instance, the message \"Aisaaa hi hai\" (meaning \"It's like that\") has Neutral Sentiment but it has been labelled Positive. So the model learned on this ambiguous data, thus affecting the classification accuracy of test data.    \n",
    "\n",
    "The proposed model gives an Overall Accuracy of 65.8% and F1-Score of 0.65. This is much higher than the baseline accuracy of 43%. However, when classifying sentiment it is important that negative text messages are reported with higher accuracy. This would help the corporation in identifying pain points of their customers and therefore help in improving customer satisfaction. Thus, the model with hyperparameters that gives highest F1-score (0.63) and Recall (0.59) for negative class as well as good overall accuracy (65.8%) is chosen to classify the sentiment of messages left by customers on social channels. \n",
    "\n"
   ]
  },
  {
   "cell_type": "markdown",
   "metadata": {},
   "source": [
    "# Next Steps\n",
    "In order to further improve the accuracy of the classification model, we can create a Language Model for Roman Urdu text (or any other under-resourced langauge) that has been trained to guess the next word in the text. To do this we need not feed a labelled dataset to our model but instead just train it on lots of Roman Urdu text. To accurately guess the next word in the sentence, the language model will have to develop an understanding of the language. After that's done, we can use this pretrained Roman Urdu model to fine tune a Language Model that is specific to our corpus (Customer Reviews for a corporation) so that the model can become good at predicting the next word for a customer review. \n",
    "\n",
    "Once we have a fine tuned Roman Urdu Language model specific to our corpus, it can be used for Sentiment Classification using Transfer Learning. This approach can give us significantly better predictions.\n",
    "\n"
   ]
  }
 ],
 "metadata": {
  "kernelspec": {
   "display_name": "Python 3",
   "language": "python",
   "name": "python3"
  },
  "language_info": {
   "codemirror_mode": {
    "name": "ipython",
    "version": 3
   },
   "file_extension": ".py",
   "mimetype": "text/x-python",
   "name": "python",
   "nbconvert_exporter": "python",
   "pygments_lexer": "ipython3",
   "version": "3.7.6"
  }
 },
 "nbformat": 4,
 "nbformat_minor": 4
}
