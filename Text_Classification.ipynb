{
 "cells": [
  {
   "cell_type": "code",
   "execution_count": 1,
   "metadata": {},
   "outputs": [],
   "source": [
    "### Classification Model for text messages\n",
    "#Author : Nilanjana Adlakha\n",
    "#Steps followed:\n",
    "#Step 1: Preprocess the text data by removing punctuations and stopwords.Also normalize the text by converting it to \n",
    "#        it's base form (lemmatize) and identify missing data if any. Since in this dataset after preprocessing only \n",
    "#        5 rows (0.1%) are left with missing entry, we remove them.\n",
    "#Step 2: Split the dataset into Train and Test data making sure the proportion of classes is maintained in both the \n",
    "#        datasets.\n",
    "#Step 3: Train the models and identify the best classifier for this dataset. For this dataset Naive Bayes performs well\n",
    "#        with an accuracy of 98.6% and AUC Score of 0.997\n"
   ]
  },
  {
   "cell_type": "code",
   "execution_count": 2,
   "metadata": {},
   "outputs": [
    {
     "name": "stderr",
     "output_type": "stream",
     "text": [
      "[nltk_data] Downloading package stopwords to\n",
      "[nltk_data]     /Users/nilanjana/nltk_data...\n",
      "[nltk_data]   Package stopwords is already up-to-date!\n"
     ]
    }
   ],
   "source": [
    "import pandas as pd\n",
    "pd.set_option('display.max_columns', None)  \n",
    "pd.set_option('display.expand_frame_repr', False)\n",
    "pd.set_option('max_colwidth', None)\n",
    "%matplotlib inline\n",
    "import matplotlib.pyplot as plt\n",
    "import string\n",
    "import re\n",
    "import numpy as np\n",
    "import nltk\n",
    "nltk.download('stopwords')\n",
    "from nltk.corpus import stopwords\n",
    "from sklearn.feature_extraction.text import TfidfVectorizer,CountVectorizer,TfidfTransformer\n",
    "from sklearn.model_selection import train_test_split\n",
    "import xgboost as xgb\n",
    "from sklearn.metrics import accuracy_score\n",
    "from textblob import TextBlob\n",
    "import spacy\n",
    "from sklearn.linear_model import LogisticRegression\n",
    "from sklearn.svm import LinearSVC,SVC\n",
    "from sklearn.calibration import CalibratedClassifierCV\n",
    "from sklearn.naive_bayes import MultinomialNB\n",
    "from sklearn.ensemble import RandomForestClassifier\n",
    "from sklearn.metrics import classification_report\n",
    "from sklearn import metrics"
   ]
  },
  {
   "cell_type": "markdown",
   "metadata": {},
   "source": [
    "# Preprocessing the Dataset"
   ]
  },
  {
   "cell_type": "code",
   "execution_count": 3,
   "metadata": {},
   "outputs": [
    {
     "data": {
      "text/html": [
       "<div>\n",
       "<style scoped>\n",
       "    .dataframe tbody tr th:only-of-type {\n",
       "        vertical-align: middle;\n",
       "    }\n",
       "\n",
       "    .dataframe tbody tr th {\n",
       "        vertical-align: top;\n",
       "    }\n",
       "\n",
       "    .dataframe thead th {\n",
       "        text-align: right;\n",
       "    }\n",
       "</style>\n",
       "<table border=\"1\" class=\"dataframe\">\n",
       "  <thead>\n",
       "    <tr style=\"text-align: right;\">\n",
       "      <th></th>\n",
       "      <th>message</th>\n",
       "      <th>label</th>\n",
       "    </tr>\n",
       "  </thead>\n",
       "  <tbody>\n",
       "    <tr>\n",
       "      <th>0</th>\n",
       "      <td>Go until jurong point, crazy.. Available only in bugis n great world la e buffet... Cine there got amore wat...</td>\n",
       "      <td>0</td>\n",
       "    </tr>\n",
       "    <tr>\n",
       "      <th>1</th>\n",
       "      <td>Ok lar... Joking wif u oni...</td>\n",
       "      <td>0</td>\n",
       "    </tr>\n",
       "    <tr>\n",
       "      <th>2</th>\n",
       "      <td>Free entry in 2 a wkly comp to win FA Cup final tkts 21st May 2005. Text FA to 87121 to receive entry question(std txt rate)T&amp;C's apply 08452810075over18's</td>\n",
       "      <td>1</td>\n",
       "    </tr>\n",
       "    <tr>\n",
       "      <th>3</th>\n",
       "      <td>U dun say so early hor... U c already then say...</td>\n",
       "      <td>0</td>\n",
       "    </tr>\n",
       "    <tr>\n",
       "      <th>4</th>\n",
       "      <td>Nah I don't think he goes to usf, he lives around here though</td>\n",
       "      <td>0</td>\n",
       "    </tr>\n",
       "    <tr>\n",
       "      <th>5</th>\n",
       "      <td>FreeMsg Hey there darling it's been 3 week's now and no word back! I'd like some fun you up for it still? Tb ok! XxX std chgs to send, £1.50 to rcv</td>\n",
       "      <td>1</td>\n",
       "    </tr>\n",
       "    <tr>\n",
       "      <th>6</th>\n",
       "      <td>Even my brother is not like to speak with me. They treat me like aids patent.</td>\n",
       "      <td>0</td>\n",
       "    </tr>\n",
       "    <tr>\n",
       "      <th>7</th>\n",
       "      <td>As per your request 'Melle Melle (Oru Minnaminunginte Nurungu Vettam)' has been set as your callertune for all Callers. Press *9 to copy your friends Callertune</td>\n",
       "      <td>0</td>\n",
       "    </tr>\n",
       "    <tr>\n",
       "      <th>8</th>\n",
       "      <td>WINNER!! As a valued network customer you have been selected to receivea £900 prize reward! To claim call 09061701461. Claim code KL341. Valid 12 hours only.</td>\n",
       "      <td>1</td>\n",
       "    </tr>\n",
       "    <tr>\n",
       "      <th>9</th>\n",
       "      <td>Had your mobile 11 months or more? U R entitled to Update to the latest colour mobiles with camera for Free! Call The Mobile Update Co FREE on 08002986030</td>\n",
       "      <td>1</td>\n",
       "    </tr>\n",
       "  </tbody>\n",
       "</table>\n",
       "</div>"
      ],
      "text/plain": [
       "                                                                                                                                                            message  label\n",
       "0                                                   Go until jurong point, crazy.. Available only in bugis n great world la e buffet... Cine there got amore wat...      0\n",
       "1                                                                                                                                     Ok lar... Joking wif u oni...      0\n",
       "2       Free entry in 2 a wkly comp to win FA Cup final tkts 21st May 2005. Text FA to 87121 to receive entry question(std txt rate)T&C's apply 08452810075over18's      1\n",
       "3                                                                                                                 U dun say so early hor... U c already then say...      0\n",
       "4                                                                                                     Nah I don't think he goes to usf, he lives around here though      0\n",
       "5               FreeMsg Hey there darling it's been 3 week's now and no word back! I'd like some fun you up for it still? Tb ok! XxX std chgs to send, £1.50 to rcv      1\n",
       "6                                                                                     Even my brother is not like to speak with me. They treat me like aids patent.      0\n",
       "7  As per your request 'Melle Melle (Oru Minnaminunginte Nurungu Vettam)' has been set as your callertune for all Callers. Press *9 to copy your friends Callertune      0\n",
       "8     WINNER!! As a valued network customer you have been selected to receivea £900 prize reward! To claim call 09061701461. Claim code KL341. Valid 12 hours only.      1\n",
       "9        Had your mobile 11 months or more? U R entitled to Update to the latest colour mobiles with camera for Free! Call The Mobile Update Co FREE on 08002986030      1"
      ]
     },
     "execution_count": 3,
     "metadata": {},
     "output_type": "execute_result"
    }
   ],
   "source": [
    "#Load dataset\n",
    "df = pd.read_csv('hw_dataset.csv',encoding='utf-8')\n",
    "df.head(10)"
   ]
  },
  {
   "cell_type": "code",
   "execution_count": 4,
   "metadata": {},
   "outputs": [
    {
     "name": "stdout",
     "output_type": "stream",
     "text": [
      "Shape:  (5572, 2)\n",
      "0    4825\n",
      "1     747\n",
      "Name: label, dtype: int64\n"
     ]
    }
   ],
   "source": [
    "print(\"Shape: \",df.shape)\n",
    "print(df.label.value_counts())"
   ]
  },
  {
   "cell_type": "code",
   "execution_count": 5,
   "metadata": {},
   "outputs": [
    {
     "data": {
      "text/html": [
       "<div>\n",
       "<style scoped>\n",
       "    .dataframe tbody tr th:only-of-type {\n",
       "        vertical-align: middle;\n",
       "    }\n",
       "\n",
       "    .dataframe tbody tr th {\n",
       "        vertical-align: top;\n",
       "    }\n",
       "\n",
       "    .dataframe thead th {\n",
       "        text-align: right;\n",
       "    }\n",
       "</style>\n",
       "<table border=\"1\" class=\"dataframe\">\n",
       "  <thead>\n",
       "    <tr style=\"text-align: right;\">\n",
       "      <th></th>\n",
       "      <th>label</th>\n",
       "      <th>length</th>\n",
       "    </tr>\n",
       "  </thead>\n",
       "  <tbody>\n",
       "    <tr>\n",
       "      <th>count</th>\n",
       "      <td>5572.000000</td>\n",
       "      <td>5572.000000</td>\n",
       "    </tr>\n",
       "    <tr>\n",
       "      <th>mean</th>\n",
       "      <td>0.134063</td>\n",
       "      <td>80.489950</td>\n",
       "    </tr>\n",
       "    <tr>\n",
       "      <th>std</th>\n",
       "      <td>0.340751</td>\n",
       "      <td>59.942907</td>\n",
       "    </tr>\n",
       "    <tr>\n",
       "      <th>min</th>\n",
       "      <td>0.000000</td>\n",
       "      <td>2.000000</td>\n",
       "    </tr>\n",
       "    <tr>\n",
       "      <th>25%</th>\n",
       "      <td>0.000000</td>\n",
       "      <td>36.000000</td>\n",
       "    </tr>\n",
       "    <tr>\n",
       "      <th>50%</th>\n",
       "      <td>0.000000</td>\n",
       "      <td>62.000000</td>\n",
       "    </tr>\n",
       "    <tr>\n",
       "      <th>75%</th>\n",
       "      <td>0.000000</td>\n",
       "      <td>122.000000</td>\n",
       "    </tr>\n",
       "    <tr>\n",
       "      <th>max</th>\n",
       "      <td>1.000000</td>\n",
       "      <td>910.000000</td>\n",
       "    </tr>\n",
       "  </tbody>\n",
       "</table>\n",
       "</div>"
      ],
      "text/plain": [
       "             label       length\n",
       "count  5572.000000  5572.000000\n",
       "mean      0.134063    80.489950\n",
       "std       0.340751    59.942907\n",
       "min       0.000000     2.000000\n",
       "25%       0.000000    36.000000\n",
       "50%       0.000000    62.000000\n",
       "75%       0.000000   122.000000\n",
       "max       1.000000   910.000000"
      ]
     },
     "execution_count": 5,
     "metadata": {},
     "output_type": "execute_result"
    }
   ],
   "source": [
    "#Get length of each message\n",
    "df['length'] = df.message.apply(lambda x :len(x))\n",
    "df.describe()"
   ]
  },
  {
   "cell_type": "code",
   "execution_count": 6,
   "metadata": {},
   "outputs": [
    {
     "data": {
      "text/plain": [
       "message    0.0\n",
       "label      0.0\n",
       "length     0.0\n",
       "dtype: float64"
      ]
     },
     "execution_count": 6,
     "metadata": {},
     "output_type": "execute_result"
    }
   ],
   "source": [
    "#Checking for missing data\n",
    "df[(df.message == '') | (df.message.isnull())].sum()"
   ]
  },
  {
   "cell_type": "code",
   "execution_count": 7,
   "metadata": {},
   "outputs": [
    {
     "data": {
      "text/plain": [
       "array([[<matplotlib.axes._subplots.AxesSubplot object at 0x1a2257eb50>]],\n",
       "      dtype=object)"
      ]
     },
     "execution_count": 7,
     "metadata": {},
     "output_type": "execute_result"
    },
    {
     "data": {
      "image/png": "[encoded data removed]",
      "text/plain": [
       "<Figure size 720x360 with 1 Axes>"
      ]
     },
     "metadata": {
      "needs_background": "light"
     },
     "output_type": "display_data"
    }
   ],
   "source": [
    "#Distribution of length of text\n",
    "df.hist(column = 'length',bins=200,figsize=(10,5))"
   ]
  },
  {
   "cell_type": "code",
   "execution_count": 8,
   "metadata": {},
   "outputs": [
    {
     "data": {
      "text/plain": [
       "array([<matplotlib.axes._subplots.AxesSubplot object at 0x11b9a29d0>,\n",
       "       <matplotlib.axes._subplots.AxesSubplot object at 0x1a2357be90>],\n",
       "      dtype=object)"
      ]
     },
     "execution_count": 8,
     "metadata": {},
     "output_type": "execute_result"
    },
    {
     "data": {
      "image/png": "[encoded data removed]",
      "text/plain": [
       "<Figure size 1440x360 with 2 Axes>"
      ]
     },
     "metadata": {
      "needs_background": "light"
     },
     "output_type": "display_data"
    }
   ],
   "source": [
    "#Distribution of length of text by each label\n",
    "df.hist(column = 'length',by='label',bins=200,figsize=(20,5))"
   ]
  },
  {
   "cell_type": "code",
   "execution_count": 9,
   "metadata": {},
   "outputs": [],
   "source": [
    "#Check if a text has digits\n",
    "def hasNumbers(inputString):\n",
    "    return any(char.isdigit() for char in inputString)"
   ]
  },
  {
   "cell_type": "code",
   "execution_count": 10,
   "metadata": {},
   "outputs": [],
   "source": [
    "df['hasNum'] = df.message.apply(lambda x:int(hasNumbers(x)))"
   ]
  },
  {
   "cell_type": "code",
   "execution_count": 11,
   "metadata": {},
   "outputs": [
    {
     "name": "stdout",
     "output_type": "stream",
     "text": [
      "Messages with digits: 1463\n",
      "% Messages with digits: 26.0%\n"
     ]
    }
   ],
   "source": [
    "print(\"Messages with digits:\",df.hasNum.sum())\n",
    "print(\"% Messages with digits:\",str(round((df.hasNum.sum()*100)/len(df)))+\"%\")"
   ]
  },
  {
   "cell_type": "code",
   "execution_count": 12,
   "metadata": {},
   "outputs": [
    {
     "data": {
      "text/plain": [
       "array([<matplotlib.axes._subplots.AxesSubplot object at 0x1a23a13a90>,\n",
       "       <matplotlib.axes._subplots.AxesSubplot object at 0x109880f50>],\n",
       "      dtype=object)"
      ]
     },
     "execution_count": 12,
     "metadata": {},
     "output_type": "execute_result"
    },
    {
     "data": {
      "image/png": "[encoded data removed]",
      "text/plain": [
       "<Figure size 1440x360 with 2 Axes>"
      ]
     },
     "metadata": {
      "needs_background": "light"
     },
     "output_type": "display_data"
    }
   ],
   "source": [
    "#Distribution of messages with digits by label\n",
    "df.hist(column='hasNum',by='label',figsize=(20,5))"
   ]
  },
  {
   "cell_type": "code",
   "execution_count": 13,
   "metadata": {},
   "outputs": [],
   "source": [
    "#Clean the text data - remove punctuations and stopwords\n",
    "def preprocessing_text(text):\n",
    "    text = text.translate(str.maketrans('', '', string.punctuation))\n",
    "    text = [word for word in text.split() if word.lower() not in stopwords.words('english')]\n",
    "    return \" \".join(text) "
   ]
  },
  {
   "cell_type": "code",
   "execution_count": 14,
   "metadata": {},
   "outputs": [],
   "source": [
    "#normalize words into their base form lemma - Lemmatization\n",
    "def lemmatize_text(text):\n",
    "    words = TextBlob(text.lower()).words\n",
    "    # for each word, take its \"base form\" \n",
    "    word = [word.lemma for word in words]\n",
    "    return \" \".join(word)"
   ]
  },
  {
   "cell_type": "code",
   "execution_count": 15,
   "metadata": {},
   "outputs": [],
   "source": [
    "df['text'] = df.message.apply(preprocessing_text)\n",
    "df['text'] = df.text.apply(lemmatize_text)"
   ]
  },
  {
   "cell_type": "code",
   "execution_count": 16,
   "metadata": {},
   "outputs": [
    {
     "name": "stdout",
     "output_type": "stream",
     "text": [
      "Number of rows with missing text: 5\n"
     ]
    },
    {
     "data": {
      "text/html": [
       "<div>\n",
       "<style scoped>\n",
       "    .dataframe tbody tr th:only-of-type {\n",
       "        vertical-align: middle;\n",
       "    }\n",
       "\n",
       "    .dataframe tbody tr th {\n",
       "        vertical-align: top;\n",
       "    }\n",
       "\n",
       "    .dataframe thead th {\n",
       "        text-align: right;\n",
       "    }\n",
       "</style>\n",
       "<table border=\"1\" class=\"dataframe\">\n",
       "  <thead>\n",
       "    <tr style=\"text-align: right;\">\n",
       "      <th></th>\n",
       "      <th>message</th>\n",
       "      <th>label</th>\n",
       "      <th>length</th>\n",
       "      <th>hasNum</th>\n",
       "      <th>text</th>\n",
       "    </tr>\n",
       "  </thead>\n",
       "  <tbody>\n",
       "    <tr>\n",
       "      <th>960</th>\n",
       "      <td>Where @</td>\n",
       "      <td>0</td>\n",
       "      <td>7</td>\n",
       "      <td>0</td>\n",
       "      <td></td>\n",
       "    </tr>\n",
       "    <tr>\n",
       "      <th>2807</th>\n",
       "      <td>Can a not?</td>\n",
       "      <td>0</td>\n",
       "      <td>10</td>\n",
       "      <td>0</td>\n",
       "      <td></td>\n",
       "    </tr>\n",
       "    <tr>\n",
       "      <th>3376</th>\n",
       "      <td>:)</td>\n",
       "      <td>0</td>\n",
       "      <td>3</td>\n",
       "      <td>0</td>\n",
       "      <td></td>\n",
       "    </tr>\n",
       "    <tr>\n",
       "      <th>4575</th>\n",
       "      <td>:( but your not here....</td>\n",
       "      <td>0</td>\n",
       "      <td>24</td>\n",
       "      <td>0</td>\n",
       "      <td></td>\n",
       "    </tr>\n",
       "    <tr>\n",
       "      <th>4824</th>\n",
       "      <td>:-) :-)</td>\n",
       "      <td>0</td>\n",
       "      <td>7</td>\n",
       "      <td>0</td>\n",
       "      <td></td>\n",
       "    </tr>\n",
       "  </tbody>\n",
       "</table>\n",
       "</div>"
      ],
      "text/plain": [
       "                       message  label  length  hasNum text\n",
       "960                    Where @      0       7       0     \n",
       "2807                Can a not?      0      10       0     \n",
       "3376                       :)       0       3       0     \n",
       "4575  :( but your not here....      0      24       0     \n",
       "4824                   :-) :-)      0       7       0     "
      ]
     },
     "execution_count": 16,
     "metadata": {},
     "output_type": "execute_result"
    }
   ],
   "source": [
    "#Checking for missing values after preprocessing messages\n",
    "print(\"Number of rows with missing text:\",len(df[(df.text=='')]))\n",
    "df[(df.text=='')]"
   ]
  },
  {
   "cell_type": "code",
   "execution_count": 17,
   "metadata": {},
   "outputs": [
    {
     "data": {
      "text/plain": [
       "(5567, 5)"
      ]
     },
     "execution_count": 17,
     "metadata": {},
     "output_type": "execute_result"
    }
   ],
   "source": [
    "#Dropping rows with missing data as it's only 0.1% of the dataset\n",
    "df['text'].replace('', np.nan, inplace=True)\n",
    "df = df.dropna(subset=['text'])\n",
    "df = df.reset_index(drop=True)\n",
    "df.shape"
   ]
  },
  {
   "cell_type": "markdown",
   "metadata": {
    "slideshow": {
     "slide_type": "-"
    }
   },
   "source": [
    "# Convert Words to Vectors"
   ]
  },
  {
   "cell_type": "code",
   "execution_count": 18,
   "metadata": {},
   "outputs": [
    {
     "data": {
      "text/plain": [
       "(5567, 40640)"
      ]
     },
     "execution_count": 18,
     "metadata": {},
     "output_type": "execute_result"
    }
   ],
   "source": [
    "# Convert text to a matrix of TF-IDF features\n",
    "# We take unigrams and bigrams into account to capture phrases like \"Happy\" vs \"Very Happy\" and \"Happy\" vs \"Not Happy\"\n",
    "# Unigrams and Bigrams are critical in learning the semantics here\n",
    "vectorizer = TfidfVectorizer(analyzer = 'word',ngram_range=(1,2))\n",
    "vectors = vectorizer.fit_transform(df['text'])\n",
    "vectors.shape"
   ]
  },
  {
   "cell_type": "markdown",
   "metadata": {},
   "source": [
    "# Classifcation Model"
   ]
  },
  {
   "cell_type": "code",
   "execution_count": 19,
   "metadata": {},
   "outputs": [],
   "source": [
    "# Splitting into Test and Train keeping same proportion of class labels\n",
    "# Independent Variable : Word Vector Matrix\n",
    "# Dependent Variable: Label\n",
    "X_train, X_test, y_train, y_test = train_test_split(vectors, df['label'], stratify= df['label'],test_size=0.3, random_state=10)"
   ]
  },
  {
   "cell_type": "code",
   "execution_count": 20,
   "metadata": {},
   "outputs": [
    {
     "name": "stdout",
     "output_type": "stream",
     "text": [
      "(3896, 40640)\n",
      "(1671, 40640)\n",
      "(3896,)\n",
      "(1671,)\n"
     ]
    }
   ],
   "source": [
    "print (X_train.shape)\n",
    "print (X_test.shape)\n",
    "print (y_train.shape)\n",
    "print (y_test.shape)"
   ]
  },
  {
   "cell_type": "markdown",
   "metadata": {},
   "source": [
    "### Comparing Models to identify the best classification model"
   ]
  },
  {
   "cell_type": "code",
   "execution_count": 21,
   "metadata": {},
   "outputs": [],
   "source": [
    "#Initializing all model objects -- Naive Bayes, Logistic Regression, Support Vector Machines, Random Forest\n",
    "mnb = MultinomialNB(alpha=0.25)\n",
    "lr = LogisticRegression(solver='liblinear',penalty='l2')\n",
    "#svm = LinearSVC()\n",
    "#CalibratedClassifierCV is used to get predict_proba() from SVM model as LinearSVC() does not support the function\n",
    "svm= CalibratedClassifierCV(base_estimator = LinearSVC()) \n",
    "rfc = RandomForestClassifier(n_estimators=75, random_state=111)"
   ]
  },
  {
   "cell_type": "code",
   "execution_count": 22,
   "metadata": {},
   "outputs": [],
   "source": [
    "dic_mdl = {\"NB\":mnb,\"LR\":lr,\"SVM\":svm,\"RF\":rfc}"
   ]
  },
  {
   "cell_type": "code",
   "execution_count": 23,
   "metadata": {},
   "outputs": [],
   "source": [
    "df_clf = pd.DataFrame()\n",
    "for mdl_name,mdl in dic_mdl.items():\n",
    "    mdl.fit(X_train, y_train)\n",
    "    classification_rep = classification_report(mdl.predict(X_test),y_test,output_dict=True)\n",
    "    accuracy = classification_rep['accuracy']\n",
    "    precision_0 = classification_rep['0']['precision']\n",
    "    recall_0 = classification_rep['0']['recall']\n",
    "    f1_0 = classification_rep['0']['f1-score']\n",
    "    precision_1 = classification_rep['1']['precision']\n",
    "    recall_1 = classification_rep['1']['recall']\n",
    "    f1_1 = classification_rep['1']['f1-score']\n",
    "    precision = classification_rep['weighted avg']['precision']\n",
    "    recall = classification_rep['weighted avg']['recall']\n",
    "    f1_score = classification_rep['weighted avg']['f1-score']\n",
    "    auc = metrics.roc_auc_score(y_test, mdl.predict_proba(X_test)[:,-1])\n",
    "    df = pd.DataFrame([[mdl_name,accuracy,precision_0,recall_0,f1_0,precision_1,recall_1,f1_1,precision,recall,f1_score,auc]])\n",
    "    df_clf = df_clf.append(df)\n",
    "df_clf.columns = ['Model','Accuracy','Precision_0','Recall_0','F1_Score_0','Precision_1','Recall_1','F1_Score_1','Precision','Recall','F1-Score','AUC']    "
   ]
  },
  {
   "cell_type": "code",
   "execution_count": 24,
   "metadata": {},
   "outputs": [
    {
     "data": {
      "text/html": [
       "<div>\n",
       "<style scoped>\n",
       "    .dataframe tbody tr th:only-of-type {\n",
       "        vertical-align: middle;\n",
       "    }\n",
       "\n",
       "    .dataframe tbody tr th {\n",
       "        vertical-align: top;\n",
       "    }\n",
       "\n",
       "    .dataframe thead th {\n",
       "        text-align: right;\n",
       "    }\n",
       "</style>\n",
       "<table border=\"1\" class=\"dataframe\">\n",
       "  <thead>\n",
       "    <tr style=\"text-align: right;\">\n",
       "      <th></th>\n",
       "      <th>Model</th>\n",
       "      <th>Accuracy</th>\n",
       "      <th>Precision_0</th>\n",
       "      <th>Recall_0</th>\n",
       "      <th>F1_Score_0</th>\n",
       "      <th>Precision_1</th>\n",
       "      <th>Recall_1</th>\n",
       "      <th>F1_Score_1</th>\n",
       "      <th>Precision</th>\n",
       "      <th>Recall</th>\n",
       "      <th>F1-Score</th>\n",
       "      <th>AUC</th>\n",
       "    </tr>\n",
       "  </thead>\n",
       "  <tbody>\n",
       "    <tr>\n",
       "      <th>0</th>\n",
       "      <td>NB</td>\n",
       "      <td>0.985637</td>\n",
       "      <td>0.995162</td>\n",
       "      <td>0.988332</td>\n",
       "      <td>0.991736</td>\n",
       "      <td>0.924107</td>\n",
       "      <td>0.967290</td>\n",
       "      <td>0.945205</td>\n",
       "      <td>0.986063</td>\n",
       "      <td>0.985637</td>\n",
       "      <td>0.985777</td>\n",
       "      <td>0.997304</td>\n",
       "    </tr>\n",
       "    <tr>\n",
       "      <th>0</th>\n",
       "      <td>LR</td>\n",
       "      <td>0.914423</td>\n",
       "      <td>0.999309</td>\n",
       "      <td>0.910579</td>\n",
       "      <td>0.952883</td>\n",
       "      <td>0.366071</td>\n",
       "      <td>0.987952</td>\n",
       "      <td>0.534202</td>\n",
       "      <td>0.967855</td>\n",
       "      <td>0.914423</td>\n",
       "      <td>0.932087</td>\n",
       "      <td>0.992531</td>\n",
       "    </tr>\n",
       "    <tr>\n",
       "      <th>0</th>\n",
       "      <td>SVM</td>\n",
       "      <td>0.982645</td>\n",
       "      <td>0.993089</td>\n",
       "      <td>0.986951</td>\n",
       "      <td>0.990010</td>\n",
       "      <td>0.915179</td>\n",
       "      <td>0.953488</td>\n",
       "      <td>0.933941</td>\n",
       "      <td>0.983065</td>\n",
       "      <td>0.982645</td>\n",
       "      <td>0.982796</td>\n",
       "      <td>0.995489</td>\n",
       "    </tr>\n",
       "    <tr>\n",
       "      <th>0</th>\n",
       "      <td>RF</td>\n",
       "      <td>0.967086</td>\n",
       "      <td>1.000000</td>\n",
       "      <td>0.963382</td>\n",
       "      <td>0.981350</td>\n",
       "      <td>0.754464</td>\n",
       "      <td>1.000000</td>\n",
       "      <td>0.860051</td>\n",
       "      <td>0.975167</td>\n",
       "      <td>0.967086</td>\n",
       "      <td>0.969082</td>\n",
       "      <td>0.991696</td>\n",
       "    </tr>\n",
       "  </tbody>\n",
       "</table>\n",
       "</div>"
      ],
      "text/plain": [
       "  Model  Accuracy  Precision_0  Recall_0  F1_Score_0  Precision_1  Recall_1  F1_Score_1  Precision    Recall  F1-Score       AUC\n",
       "0    NB  0.985637     0.995162  0.988332    0.991736     0.924107  0.967290    0.945205   0.986063  0.985637  0.985777  0.997304\n",
       "0    LR  0.914423     0.999309  0.910579    0.952883     0.366071  0.987952    0.534202   0.967855  0.914423  0.932087  0.992531\n",
       "0   SVM  0.982645     0.993089  0.986951    0.990010     0.915179  0.953488    0.933941   0.983065  0.982645  0.982796  0.995489\n",
       "0    RF  0.967086     1.000000  0.963382    0.981350     0.754464  1.000000    0.860051   0.975167  0.967086  0.969082  0.991696"
      ]
     },
     "execution_count": 24,
     "metadata": {},
     "output_type": "execute_result"
    }
   ],
   "source": [
    "df_clf"
   ]
  },
  {
   "cell_type": "code",
   "execution_count": 25,
   "metadata": {},
   "outputs": [
    {
     "data": {
      "text/plain": [
       "Text(0.5, 0, 'Model')"
      ]
     },
     "execution_count": 25,
     "metadata": {},
     "output_type": "execute_result"
    },
    {
     "data": {
      "image/png": "[encoded data removed]",
      "text/plain": [
       "<Figure size 1296x1080 with 5 Axes>"
      ]
     },
     "metadata": {
      "needs_background": "light"
     },
     "output_type": "display_data"
    }
   ],
   "source": [
    "df_clf.plot(kind ='bar',x='Model',y=['Accuracy','Precision','Recall','F1-Score','AUC'],\n",
    "            figsize=(18,15),colormap=\"Set2\",ylim=(0.9,1.0),subplots=True)\n",
    "plt.xlabel('Model',fontsize=15,fontweight='black')\n"
   ]
  },
  {
   "cell_type": "markdown",
   "metadata": {},
   "source": [
    "# Selecting Best Classifier"
   ]
  },
  {
   "cell_type": "code",
   "execution_count": 26,
   "metadata": {
    "scrolled": true
   },
   "outputs": [],
   "source": [
    "# Since Naive Bayes performs the best of all the classifiers with an accuracy of 98.6% and high Recall and Precision\n",
    "# we now use Naive Bayes to predict classes for test data\n",
    "model = mnb"
   ]
  },
  {
   "cell_type": "code",
   "execution_count": 27,
   "metadata": {},
   "outputs": [
    {
     "name": "stdout",
     "output_type": "stream",
     "text": [
      "Accuracy Score: 0.9856373429084381\n"
     ]
    }
   ],
   "source": [
    "#make class predictions for X_test\n",
    "y_pred_class = model.predict(X_test)\n",
    "print(\"Accuracy Score:\",metrics.accuracy_score(y_test, y_pred_class))"
   ]
  },
  {
   "cell_type": "code",
   "execution_count": 28,
   "metadata": {},
   "outputs": [
    {
     "name": "stdout",
     "output_type": "stream",
     "text": [
      "Confusion Matrix:\n",
      " [[1440    7]\n",
      " [  17  207]]\n"
     ]
    }
   ],
   "source": [
    "# print the confusion matrix\n",
    "print(\"Confusion Matrix:\\n\",metrics.confusion_matrix(y_test, y_pred_class))"
   ]
  },
  {
   "cell_type": "code",
   "execution_count": 29,
   "metadata": {},
   "outputs": [
    {
     "name": "stdout",
     "output_type": "stream",
     "text": [
      "AUC : 0.9973035344061605\n"
     ]
    }
   ],
   "source": [
    "#calculate AUC\n",
    "print(\"AUC :\",metrics.roc_auc_score(y_test, model.predict_proba(X_test)[:,-1]))"
   ]
  },
  {
   "cell_type": "code",
   "execution_count": 30,
   "metadata": {},
   "outputs": [
    {
     "name": "stdout",
     "output_type": "stream",
     "text": [
      "              precision    recall  f1-score   support\n",
      "\n",
      "           0       1.00      0.99      0.99      1457\n",
      "           1       0.92      0.97      0.95       214\n",
      "\n",
      "    accuracy                           0.99      1671\n",
      "   macro avg       0.96      0.98      0.97      1671\n",
      "weighted avg       0.99      0.99      0.99      1671\n",
      "\n"
     ]
    }
   ],
   "source": [
    "#Getting Scores for test dataset\n",
    "print(classification_report(model.predict(X_test),y_test))"
   ]
  },
  {
   "cell_type": "markdown",
   "metadata": {},
   "source": [
    "# -------------------------------------------------------------------------------------------\n",
    "# Appendix - Finding the right hyperparameters for each model"
   ]
  },
  {
   "cell_type": "markdown",
   "metadata": {},
   "source": [
    "### 1. Naives Bayes"
   ]
  },
  {
   "cell_type": "code",
   "execution_count": 31,
   "metadata": {},
   "outputs": [
    {
     "name": "stdout",
     "output_type": "stream",
     "text": [
      "Accuracy for Test C=0.01: 0.9251944943147815\n",
      "              precision    recall  f1-score   support\n",
      "\n",
      "           0       0.91      1.00      0.95      1324\n",
      "           1       1.00      0.64      0.78       347\n",
      "\n",
      "    accuracy                           0.93      1671\n",
      "   macro avg       0.95      0.82      0.87      1671\n",
      "weighted avg       0.93      0.93      0.92      1671\n",
      "\n",
      "-----------------------------------------------------------------\n",
      "Accuracy for Test C=0.05: 0.9521244763614602\n",
      "              precision    recall  f1-score   support\n",
      "\n",
      "           0       0.95      1.00      0.97      1369\n",
      "           1       1.00      0.74      0.85       302\n",
      "\n",
      "    accuracy                           0.95      1671\n",
      "   macro avg       0.97      0.87      0.91      1671\n",
      "weighted avg       0.95      0.95      0.95      1671\n",
      "\n",
      "-----------------------------------------------------------------\n",
      "Accuracy for Test C=0.25: 0.9856373429084381\n",
      "              precision    recall  f1-score   support\n",
      "\n",
      "           0       1.00      0.99      0.99      1457\n",
      "           1       0.92      0.97      0.95       214\n",
      "\n",
      "    accuracy                           0.99      1671\n",
      "   macro avg       0.96      0.98      0.97      1671\n",
      "weighted avg       0.99      0.99      0.99      1671\n",
      "\n",
      "-----------------------------------------------------------------\n",
      "Accuracy for Test C=0.5: 0.9736684619988031\n",
      "              precision    recall  f1-score   support\n",
      "\n",
      "           0       1.00      0.97      0.99      1491\n",
      "           1       0.80      1.00      0.89       180\n",
      "\n",
      "    accuracy                           0.97      1671\n",
      "   macro avg       0.90      0.99      0.94      1671\n",
      "weighted avg       0.98      0.97      0.97      1671\n",
      "\n",
      "-----------------------------------------------------------------\n",
      "Accuracy for Test C=0.75: 0.9551166965888689\n",
      "              precision    recall  f1-score   support\n",
      "\n",
      "           0       1.00      0.95      0.97      1522\n",
      "           1       0.67      1.00      0.80       149\n",
      "\n",
      "    accuracy                           0.96      1671\n",
      "   macro avg       0.83      0.98      0.89      1671\n",
      "weighted avg       0.97      0.96      0.96      1671\n",
      "\n",
      "-----------------------------------------------------------------\n",
      "Accuracy for Test C=1: 0.9419509275882705\n",
      "              precision    recall  f1-score   support\n",
      "\n",
      "           0       1.00      0.94      0.97      1544\n",
      "           1       0.57      1.00      0.72       127\n",
      "\n",
      "    accuracy                           0.94      1671\n",
      "   macro avg       0.78      0.97      0.85      1671\n",
      "weighted avg       0.97      0.94      0.95      1671\n",
      "\n",
      "-----------------------------------------------------------------\n"
     ]
    }
   ],
   "source": [
    "\n",
    "for c in [0.01, 0.05, 0.25, 0.5,0.75 ,1]:\n",
    "    \n",
    "    mnb = MultinomialNB(alpha=c)\n",
    "    mnb.fit(X_train, y_train)\n",
    "    accuracy = accuracy_score(y_test, mnb.predict(X_test))\n",
    "    print (\"Accuracy for Test C=%s: %s\" % (c, accuracy))\n",
    "    print(classification_report(mnb.predict(X_test),y_test))\n",
    "    print(\"-----------------------------------------------------------------\")"
   ]
  },
  {
   "cell_type": "markdown",
   "metadata": {},
   "source": [
    "### 2. Logistic Regression"
   ]
  },
  {
   "cell_type": "code",
   "execution_count": 32,
   "metadata": {},
   "outputs": [
    {
     "name": "stdout",
     "output_type": "stream",
     "text": [
      "Accuracy for Test C=0.01: 0.8659485338120886\n",
      "              precision    recall  f1-score   support\n",
      "\n",
      "           0       1.00      0.87      0.93      1671\n",
      "           1       0.00      0.00      0.00         0\n",
      "\n",
      "    accuracy                           0.87      1671\n",
      "   macro avg       0.50      0.43      0.46      1671\n",
      "weighted avg       1.00      0.87      0.93      1671\n",
      "\n",
      "-----------------------------------------------------------------\n",
      "Accuracy for Test C=0.05: 0.8659485338120886\n",
      "              precision    recall  f1-score   support\n",
      "\n",
      "           0       1.00      0.87      0.93      1671\n",
      "           1       0.00      0.00      0.00         0\n",
      "\n",
      "    accuracy                           0.87      1671\n",
      "   macro avg       0.50      0.43      0.46      1671\n",
      "weighted avg       1.00      0.87      0.93      1671\n",
      "\n",
      "-----------------------------------------------------------------\n",
      "Accuracy for Test C=0.25: 0.8665469778575703\n",
      "              precision    recall  f1-score   support\n",
      "\n",
      "           0       1.00      0.87      0.93      1668\n",
      "           1       0.01      0.67      0.02         3\n",
      "\n",
      "    accuracy                           0.87      1671\n",
      "   macro avg       0.50      0.77      0.47      1671\n",
      "weighted avg       1.00      0.87      0.93      1671\n",
      "\n",
      "-----------------------------------------------------------------\n",
      "Accuracy for Test C=0.5: 0.8868940754039497\n",
      "              precision    recall  f1-score   support\n",
      "\n",
      "           0       1.00      0.88      0.94      1634\n",
      "           1       0.16      0.97      0.28        37\n",
      "\n",
      "    accuracy                           0.89      1671\n",
      "   macro avg       0.58      0.93      0.61      1671\n",
      "weighted avg       0.98      0.89      0.92      1671\n",
      "\n",
      "-----------------------------------------------------------------\n",
      "Accuracy for Test C=0.75: 0.8994614003590664\n",
      "              precision    recall  f1-score   support\n",
      "\n",
      "           0       1.00      0.90      0.95      1613\n",
      "           1       0.25      0.98      0.40        58\n",
      "\n",
      "    accuracy                           0.90      1671\n",
      "   macro avg       0.63      0.94      0.67      1671\n",
      "weighted avg       0.97      0.90      0.93      1671\n",
      "\n",
      "-----------------------------------------------------------------\n",
      "Accuracy for Test C=1: 0.9144225014961102\n",
      "              precision    recall  f1-score   support\n",
      "\n",
      "           0       1.00      0.91      0.95      1588\n",
      "           1       0.37      0.99      0.53        83\n",
      "\n",
      "    accuracy                           0.91      1671\n",
      "   macro avg       0.68      0.95      0.74      1671\n",
      "weighted avg       0.97      0.91      0.93      1671\n",
      "\n",
      "-----------------------------------------------------------------\n"
     ]
    },
    {
     "name": "stderr",
     "output_type": "stream",
     "text": [
      "/Users/nilanjana/opt/anaconda3/lib/python3.7/site-packages/sklearn/metrics/_classification.py:1272: UndefinedMetricWarning: Recall and F-score are ill-defined and being set to 0.0 in labels with no true samples. Use `zero_division` parameter to control this behavior.\n",
      "  _warn_prf(average, modifier, msg_start, len(result))\n"
     ]
    }
   ],
   "source": [
    "for c in [0.01, 0.05, 0.25, 0.5,0.75 ,1]:\n",
    "    \n",
    "    lr = LogisticRegression(C=c,solver='liblinear',penalty='l2')\n",
    "    lr.fit(X_train, y_train)\n",
    "    print (\"Accuracy for Test C=%s: %s\" % (c, accuracy_score(y_test, lr.predict(X_test))))\n",
    "    print(classification_report(lr.predict(X_test),y_test))\n",
    "    print(\"-----------------------------------------------------------------\")"
   ]
  },
  {
   "cell_type": "markdown",
   "metadata": {},
   "source": [
    "### 3. Support Vector Machine"
   ]
  },
  {
   "cell_type": "code",
   "execution_count": 33,
   "metadata": {},
   "outputs": [
    {
     "name": "stdout",
     "output_type": "stream",
     "text": [
      "Accuracy for Test C=0.01: 0.8659485338120886\n",
      "              precision    recall  f1-score   support\n",
      "\n",
      "           0       1.00      0.87      0.93      1671\n",
      "           1       0.00      0.00      0.00         0\n",
      "\n",
      "    accuracy                           0.87      1671\n",
      "   macro avg       0.50      0.43      0.46      1671\n",
      "weighted avg       1.00      0.87      0.93      1671\n",
      "\n",
      "-----------------------------------------------------------------\n",
      "Accuracy for Test C=0.05: 0.891083183722322\n",
      "              precision    recall  f1-score   support\n",
      "\n",
      "           0       1.00      0.89      0.94      1627\n",
      "           1       0.19      0.98      0.32        44\n",
      "\n",
      "    accuracy                           0.89      1671\n",
      "   macro avg       0.60      0.93      0.63      1671\n",
      "weighted avg       0.98      0.89      0.92      1671\n",
      "\n",
      "-----------------------------------------------------------------\n",
      "Accuracy for Test C=0.25: 0.9563135846798324\n",
      "              precision    recall  f1-score   support\n",
      "\n",
      "           0       1.00      0.95      0.98      1516\n",
      "           1       0.68      0.99      0.81       155\n",
      "\n",
      "    accuracy                           0.96      1671\n",
      "   macro avg       0.84      0.97      0.89      1671\n",
      "weighted avg       0.97      0.96      0.96      1671\n",
      "\n",
      "-----------------------------------------------------------------\n",
      "Accuracy for Test C=0.5: 0.9676840215439856\n",
      "              precision    recall  f1-score   support\n",
      "\n",
      "           0       1.00      0.97      0.98      1495\n",
      "           1       0.77      0.98      0.86       176\n",
      "\n",
      "    accuracy                           0.97      1671\n",
      "   macro avg       0.89      0.97      0.92      1671\n",
      "weighted avg       0.97      0.97      0.97      1671\n",
      "\n",
      "-----------------------------------------------------------------\n",
      "Accuracy for Test C=1: 0.9730700179533214\n",
      "              precision    recall  f1-score   support\n",
      "\n",
      "           0       1.00      0.97      0.98      1488\n",
      "           1       0.81      0.99      0.89       183\n",
      "\n",
      "    accuracy                           0.97      1671\n",
      "   macro avg       0.90      0.98      0.94      1671\n",
      "weighted avg       0.98      0.97      0.97      1671\n",
      "\n",
      "-----------------------------------------------------------------\n"
     ]
    }
   ],
   "source": [
    "for c in [0.01, 0.05, 0.25, 0.5, 1]:\n",
    "    \n",
    "    svm = LinearSVC(C=c)\n",
    "    svm.fit(X_train, y_train)\n",
    "    print (\"Accuracy for Test C=%s: %s\"  % (c, accuracy_score(y_test, svm.predict(X_test))))\n",
    "    print(classification_report(svm.predict(X_test),y_test))\n",
    "    print(\"-----------------------------------------------------------------\")"
   ]
  },
  {
   "cell_type": "markdown",
   "metadata": {},
   "source": [
    "### 4. Random Forest"
   ]
  },
  {
   "cell_type": "code",
   "execution_count": 34,
   "metadata": {},
   "outputs": [
    {
     "name": "stdout",
     "output_type": "stream",
     "text": [
      "Accuracy for Test C=10: 0.9587073608617595\n",
      "              precision    recall  f1-score   support\n",
      "\n",
      "           0       1.00      0.96      0.98      1514\n",
      "           1       0.70      0.99      0.82       157\n",
      "\n",
      "    accuracy                           0.96      1671\n",
      "   macro avg       0.85      0.97      0.90      1671\n",
      "weighted avg       0.97      0.96      0.96      1671\n",
      "\n",
      "-----------------------------------------------------------------\n",
      "Accuracy for Test C=20: 0.9658886894075404\n",
      "              precision    recall  f1-score   support\n",
      "\n",
      "           0       1.00      0.96      0.98      1504\n",
      "           1       0.75      1.00      0.85       167\n",
      "\n",
      "    accuracy                           0.97      1671\n",
      "   macro avg       0.87      0.98      0.92      1671\n",
      "weighted avg       0.97      0.97      0.97      1671\n",
      "\n",
      "-----------------------------------------------------------------\n",
      "Accuracy for Test C=30: 0.9664871334530222\n",
      "              precision    recall  f1-score   support\n",
      "\n",
      "           0       1.00      0.96      0.98      1503\n",
      "           1       0.75      1.00      0.86       168\n",
      "\n",
      "    accuracy                           0.97      1671\n",
      "   macro avg       0.88      0.98      0.92      1671\n",
      "weighted avg       0.97      0.97      0.97      1671\n",
      "\n",
      "-----------------------------------------------------------------\n",
      "Accuracy for Test C=40: 0.9634949132256134\n",
      "              precision    recall  f1-score   support\n",
      "\n",
      "           0       1.00      0.96      0.98      1508\n",
      "           1       0.73      1.00      0.84       163\n",
      "\n",
      "    accuracy                           0.96      1671\n",
      "   macro avg       0.86      0.98      0.91      1671\n",
      "weighted avg       0.97      0.96      0.97      1671\n",
      "\n",
      "-----------------------------------------------------------------\n",
      "Accuracy for Test C=50: 0.964691801316577\n",
      "              precision    recall  f1-score   support\n",
      "\n",
      "           0       1.00      0.96      0.98      1506\n",
      "           1       0.74      1.00      0.85       165\n",
      "\n",
      "    accuracy                           0.96      1671\n",
      "   macro avg       0.87      0.98      0.91      1671\n",
      "weighted avg       0.97      0.96      0.97      1671\n",
      "\n",
      "-----------------------------------------------------------------\n",
      "Accuracy for Test C=75: 0.9670855774985039\n",
      "              precision    recall  f1-score   support\n",
      "\n",
      "           0       1.00      0.96      0.98      1502\n",
      "           1       0.75      1.00      0.86       169\n",
      "\n",
      "    accuracy                           0.97      1671\n",
      "   macro avg       0.88      0.98      0.92      1671\n",
      "weighted avg       0.98      0.97      0.97      1671\n",
      "\n",
      "-----------------------------------------------------------------\n",
      "Accuracy for Test C=100: 0.9664871334530222\n",
      "              precision    recall  f1-score   support\n",
      "\n",
      "           0       1.00      0.96      0.98      1503\n",
      "           1       0.75      1.00      0.86       168\n",
      "\n",
      "    accuracy                           0.97      1671\n",
      "   macro avg       0.88      0.98      0.92      1671\n",
      "weighted avg       0.97      0.97      0.97      1671\n",
      "\n",
      "-----------------------------------------------------------------\n"
     ]
    }
   ],
   "source": [
    "for c in [10,20,30,40,50,75,100]:\n",
    "    rfc = RandomForestClassifier(n_estimators=c, random_state=111)\n",
    "    rfc.fit(X_train, y_train)\n",
    "    print (\"Accuracy for Test C=%s: %s\"  % (c, accuracy_score(y_test, rfc.predict(X_test))))\n",
    "    print(classification_report(rfc.predict(X_test),y_test))\n",
    "    print(\"-----------------------------------------------------------------\")  "
   ]
  },
  {
   "cell_type": "code",
   "execution_count": null,
   "metadata": {},
   "outputs": [],
   "source": []
  },
  {
   "cell_type": "code",
   "execution_count": null,
   "metadata": {},
   "outputs": [],
   "source": []
  }
 ],
 "metadata": {
  "kernelspec": {
   "display_name": "Python 3",
   "language": "python",
   "name": "python3"
  },
  "language_info": {
   "codemirror_mode": {
    "name": "ipython",
    "version": 3
   },
   "file_extension": ".py",
   "mimetype": "text/x-python",
   "name": "python",
   "nbconvert_exporter": "python",
   "pygments_lexer": "ipython3",
   "version": "3.7.6"
  }
 },
 "nbformat": 4,
 "nbformat_minor": 4
}
